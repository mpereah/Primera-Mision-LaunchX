{
 "cells": [
  {
   "cell_type": "markdown",
   "metadata": {},
   "source": [
    "## Ejercicio 1"
   ]
  },
  {
   "cell_type": "code",
   "execution_count": 12,
   "metadata": {},
   "outputs": [
    {
     "name": "stdout",
     "output_type": "stream",
     "text": [
      "marte tiene 2 lunas\n",
      "marte su circunferencia es: 6752 Kilometros\n"
     ]
    }
   ],
   "source": [
    "planet={\n",
    "    'name': 'marte',\n",
    "    'moons': 2\n",
    "}\n",
    "print(f\"{planet['name']} tiene {planet['moons']} lunas\")\n",
    "planet['circunferencia (km)']={\n",
    "    'polar':6752,\n",
    "    'equatorial':6792\n",
    "}\n",
    "#print(planet['circunferencia (km)'])\n",
    "print(f\"{planet['name']} su circunferencia es: {planet['circunferencia (km)']['polar']} Kilometros\")"
   ]
  },
  {
   "cell_type": "markdown",
   "metadata": {},
   "source": [
    "## Ejercicio 2"
   ]
  },
  {
   "cell_type": "code",
   "execution_count": 2,
   "metadata": {},
   "outputs": [
    {
     "name": "stdout",
     "output_type": "stream",
     "text": [
      "dict_values([0, 0, 1, 2, 79, 82, 27, 14, 5, 2, 1, 1])\n",
      "12\n",
      "0\n",
      "0\n",
      "1\n",
      "3\n",
      "82\n",
      "164\n",
      "191\n",
      "205\n",
      "210\n",
      "212\n",
      "213\n",
      "214\n",
      "17.833333333333332\n"
     ]
    }
   ],
   "source": [
    "planet_moons = {\n",
    "    'mercury': 0,\n",
    "    'venus': 0,\n",
    "    'earth': 1,\n",
    "    'mars': 2,\n",
    "    'jupiter': 79,\n",
    "    'saturn': 82,\n",
    "    'uranus': 27,\n",
    "    'neptune': 14,\n",
    "    'pluto': 5,\n",
    "    'haumea': 2,\n",
    "    'makemake': 1,\n",
    "    'eris': 1\n",
    "}\n",
    "moons= planet_moons.values()\n",
    "print(moons)\n",
    "\n",
    "planets= len(planet_moons.keys())\n",
    "print(planets)\n",
    "\n",
    "total_moons = 0\n",
    "for moon in moons:\n",
    "    total_moons = total_moons + moon\n",
    "    print(total_moons)\n",
    "promedio = total_moons / planets\n",
    "print(promedio)"
   ]
  }
 ],
 "metadata": {
  "interpreter": {
   "hash": "9f4e023f1a856f382f32c6fcd0a924c0c72ae68e1ae711dbbf1d4b8cccfc52c0"
  },
  "kernelspec": {
   "display_name": "Python 3.10.2 64-bit",
   "language": "python",
   "name": "python3"
  },
  "language_info": {
   "codemirror_mode": {
    "name": "ipython",
    "version": 3
   },
   "file_extension": ".py",
   "mimetype": "text/x-python",
   "name": "python",
   "nbconvert_exporter": "python",
   "pygments_lexer": "ipython3",
   "version": "3.10.2"
  },
  "orig_nbformat": 4
 },
 "nbformat": 4,
 "nbformat_minor": 2
}
