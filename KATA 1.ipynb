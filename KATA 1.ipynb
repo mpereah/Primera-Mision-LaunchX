{
 "cells": [
  {
   "cell_type": "markdown",
   "metadata": {},
   "source": [
    "# Primer Programa"
   ]
  },
  {
   "cell_type": "code",
   "execution_count": 2,
   "metadata": {},
   "outputs": [
    {
     "name": "stdout",
     "output_type": "stream",
     "text": [
      "La fecha de hoy es:2022-02-11 19:18:45.038111\n"
     ]
    }
   ],
   "source": [
    "from datetime import date\n",
    "print('La fecha de hoy es:' + str(date.today()))"
   ]
  },
  {
   "cell_type": "markdown",
   "metadata": {},
   "source": [
    "# Convertidor de Unidades"
   ]
  },
  {
   "cell_type": "code",
   "execution_count": 1,
   "metadata": {},
   "outputs": [
    {
     "name": "stdout",
     "output_type": "stream",
     "text": [
      "11 parsec, son 35.877159999999996 Años Luz\n"
     ]
    }
   ],
   "source": [
    "parsec = 11\n",
    "\n",
    "añosLuz = 3.26156 * parsec\n",
    "\n",
    "print(str(parsec) + \" parsec, son \" + str(añosLuz) + \" Años Luz\")"
   ]
  }
 ],
 "metadata": {
  "interpreter": {
   "hash": "9f4e023f1a856f382f32c6fcd0a924c0c72ae68e1ae711dbbf1d4b8cccfc52c0"
  },
  "kernelspec": {
   "display_name": "Python 3.10.2 64-bit",
   "language": "python",
   "name": "python3"
  },
  "language_info": {
   "codemirror_mode": {
    "name": "ipython",
    "version": 3
   },
   "file_extension": ".py",
   "mimetype": "text/x-python",
   "name": "python",
   "nbconvert_exporter": "python",
   "pygments_lexer": "ipython3",
   "version": "3.10.2"
  },
  "orig_nbformat": 4
 },
 "nbformat": 4,
 "nbformat_minor": 2
}
