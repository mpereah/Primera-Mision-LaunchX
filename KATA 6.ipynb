{
 "cells": [
  {
   "cell_type": "markdown",
   "metadata": {},
   "source": [
    "## Ejercicio 1"
   ]
  },
  {
   "cell_type": "code",
   "execution_count": 33,
   "metadata": {},
   "outputs": [
    {
     "name": "stdout",
     "output_type": "stream",
     "text": [
      "['Mercurio', 'Venus', 'Tierra', 'Marte', 'Jupiter', 'Saturno', 'Urano', 'Neptuno']\n",
      "['Mercurio', 'Venus', 'Tierra', 'Marte', 'Jupiter', 'Saturno', 'Urano', 'Neptuno', 'Pluton']\n",
      "el numero de planetas es 9\n",
      "y nombre de el ultimo planeta es Pluton\n"
     ]
    }
   ],
   "source": [
    "planetas = ['Mercurio', 'Venus', 'Tierra', 'Marte', 'Jupiter', 'Saturno', 'Urano', 'Neptuno']\n",
    "print (planetas)\n",
    "planetas.append('Pluton')\n",
    "print(planetas)\n",
    "numero_de_planetas= len(planetas)\n",
    "print(\"el numero de planetas es\",numero_de_planetas )\n",
    "print(\"y nombre de el ultimo planeta es\", planetas[8])\n"
   ]
  },
  {
   "cell_type": "markdown",
   "metadata": {},
   "source": [
    "## Ejercicio 2"
   ]
  },
  {
   "cell_type": "code",
   "execution_count": 51,
   "metadata": {},
   "outputs": [
    {
     "name": "stdout",
     "output_type": "stream",
     "text": [
      "estos son los planetas  mas cercanos al sol de Saturno\n",
      "['Mercurio', 'Venus', 'Tierra', 'Marte', 'Jupiter']\n",
      "estos son los planetas mas alejado al sol de Saturno\n",
      "['Urano', 'Neptuno', 'Pluton']\n"
     ]
    }
   ],
   "source": [
    "planets= ['Mercurio', 'Venus', 'Tierra', 'Marte', 'Jupiter', 'Saturno', 'Urano', 'Neptuno', 'Pluton']\n",
    "nombre_planeta= input('Recuerda poner la primera letra del planeta en mayuscula')\n",
    "planets_index= planets.index(nombre_planeta)\n",
    "print('estos son los planetas  mas cercanos al sol de ' + nombre_planeta)\n",
    "print(planets[0:planets_index])\n",
    "print('estos son los planetas mas alejados al sol de ' + nombre_planeta)\n",
    "print(planets[planets_index + 1:])\n"
   ]
  }
 ],
 "metadata": {
  "interpreter": {
   "hash": "9f4e023f1a856f382f32c6fcd0a924c0c72ae68e1ae711dbbf1d4b8cccfc52c0"
  },
  "kernelspec": {
   "display_name": "Python 3.10.2 64-bit",
   "language": "python",
   "name": "python3"
  },
  "language_info": {
   "codemirror_mode": {
    "name": "ipython",
    "version": 3
   },
   "file_extension": ".py",
   "mimetype": "text/x-python",
   "name": "python",
   "nbconvert_exporter": "python",
   "pygments_lexer": "ipython3",
   "version": "3.10.2"
  },
  "orig_nbformat": 4
 },
 "nbformat": 4,
 "nbformat_minor": 2
}
