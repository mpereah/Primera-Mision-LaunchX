{
 "cells": [
  {
   "cell_type": "code",
   "execution_count": 6,
   "metadata": {},
   "outputs": [
    {
     "name": "stdout",
     "output_type": "stream",
     "text": [
      "Peligro!, el Asteroide esta muy cerca de la tierra\n"
     ]
    }
   ],
   "source": [
    "av= 49\n",
    "if av > 25:\n",
    "    print('Peligro!, el Asteroide esta muy cerca de la tierra')\n",
    "else:\n",
    "    print('No hay peligro')    \n"
   ]
  },
  {
   "cell_type": "code",
   "execution_count": 8,
   "metadata": {},
   "outputs": [
    {
     "name": "stdout",
     "output_type": "stream",
     "text": [
      "el asteoride se acerca a la tierra pero no hay peligro\n"
     ]
    }
   ],
   "source": [
    "a = 19\n",
    "if a > 20:\n",
    "    print('se acerca una asteroide a la tierra y si ves un rayo de luz en el cielo estamos en peligro')\n",
    "elif a == 20:\n",
    "    print('se acerca una asteroide a la tierra y si ves un rayo de luz en el cielo estamos en peligro')\n",
    "else:\n",
    "    print('el asteoride se acerca a la tierra pero no hay peligro')            "
   ]
  },
  {
   "cell_type": "code",
   "execution_count": 9,
   "metadata": {},
   "outputs": [
    {
     "name": "stdout",
     "output_type": "stream",
     "text": [
      "en el cielo se ve rayo de luz\n"
     ]
    }
   ],
   "source": [
    "va = 25\n",
    "ta = 40\n",
    "if va > 25 and ta > 25:\n",
    "    print('Peligro!, el Asteroide esta muy cerca de la tierra')\n",
    "elif va >= 20:\n",
    "    print('en el cielo se ve rayo de luz')\n",
    "elif ta < 25:\n",
    "    print('No hay peligro')\n",
    "else:\n",
    "    print('No hay peligto')"
   ]
  }
 ],
 "metadata": {
  "interpreter": {
   "hash": "9f4e023f1a856f382f32c6fcd0a924c0c72ae68e1ae711dbbf1d4b8cccfc52c0"
  },
  "kernelspec": {
   "display_name": "Python 3.10.2 64-bit",
   "language": "python",
   "name": "python3"
  },
  "language_info": {
   "codemirror_mode": {
    "name": "ipython",
    "version": 3
   },
   "file_extension": ".py",
   "mimetype": "text/x-python",
   "name": "python",
   "nbconvert_exporter": "python",
   "pygments_lexer": "ipython3",
   "version": "3.10.2"
  },
  "orig_nbformat": 4
 },
 "nbformat": 4,
 "nbformat_minor": 2
}
